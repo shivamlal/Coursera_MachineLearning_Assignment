{
  "nbformat": 4,
  "nbformat_minor": 0,
  "metadata": {
    "colab": {
      "name": "grader.ipynb",
      "provenance": [],
      "collapsed_sections": [],
      "authorship_tag": "ABX9TyN5H4IIp9K9KbecEd8+aUTI",
      "include_colab_link": true
    },
    "kernelspec": {
      "name": "python3",
      "display_name": "Python 3"
    }
  },
  "cells": [
    {
      "cell_type": "markdown",
      "metadata": {
        "id": "view-in-github",
        "colab_type": "text"
      },
      "source": [
        "<a href=\"https://colab.research.google.com/github/shivamlal/Coursera_MachineLearning_Assignment/blob/master/grader.ipynb\" target=\"_parent\"><img src=\"https://colab.research.google.com/assets/colab-badge.svg\" alt=\"Open In Colab\"/></a>"
      ]
    },
    {
      "cell_type": "code",
      "metadata": {
        "id": "daWKrdaGy9s_",
        "colab_type": "code",
        "colab": {}
      },
      "source": [
        "import requests\n",
        "import json\n",
        "import numpy as np\n",
        "from collections import OrderedDict\n",
        "\n",
        "class Grader(object):\n",
        "    def __init__(self):\n",
        "        self.submission_page = 'https://www.coursera.org/api/onDemandProgrammingScriptSubmissions.v1'\n",
        "        self.assignment_key = 'MSsYBMLgEeesWhJPHRLG5g'\n",
        "        self.parts = OrderedDict([('f5nXa', 'TextPrepare'), \n",
        "                                  ('hTrz8', 'WordsTagsCount'), \n",
        "                                  ('0kUjR', 'BagOfWords'), \n",
        "                                  ('tLJV1', 'MultilabelClassification')])\n",
        "        self.answers = {key: None for key in self.parts}\n",
        "\n",
        "    @staticmethod\n",
        "    def ravel_output(output):\n",
        "        '''\n",
        "           If student accidentally submitted np.array with one\n",
        "           element instead of number, this function will submit\n",
        "           this number instead\n",
        "        '''\n",
        "        if isinstance(output, np.ndarray) and output.size == 1:\n",
        "            output = output.item(0)\n",
        "        return output\n",
        "\n",
        "    def submit(self, email, token):\n",
        "        submission = {\n",
        "                    \"assignmentKey\": self.assignment_key, \n",
        "                    \"submitterEmail\": email, \n",
        "                    \"secret\": token, \n",
        "                    \"parts\": {}\n",
        "                  }\n",
        "        for part, output in self.answers.items():\n",
        "            if output is not None:\n",
        "                submission[\"parts\"][part] = {\"output\": output}\n",
        "            else:\n",
        "                submission[\"parts\"][part] = dict()\n",
        "        request = requests.post(self.submission_page, data=json.dumps(submission))\n",
        "        response = request.json()\n",
        "        if request.status_code == 201:\n",
        "            print('Submitted to Coursera platform. See results on assignment page!')\n",
        "        elif u'details' in response and u'learnerMessage' in response[u'details']:\n",
        "            print(response[u'details'][u'learnerMessage'])\n",
        "        else:\n",
        "            print(\"Unknown response from Coursera: {}\".format(request.status_code))\n",
        "            print(response)\n",
        "\n",
        "    def status(self):\n",
        "        print(\"You want to submit these parts:\")\n",
        "        for part_id, part_name in self.parts.items():\n",
        "            answer = self.answers[part_id]\n",
        "            if answer is None:\n",
        "                answer = '-'*10\n",
        "            print(\"Task {}:\\n {}\".format(part_name, answer[:100] + '...'))\n",
        "               \n",
        "    def submit_part(self, part, output):\n",
        "        self.answers[part] = output\n",
        "        print(\"Current answer for task {} is:\\n {}\".format(self.parts[part], output[:100] + '...'))\n",
        "\n",
        "    def submit_tag(self, tag, output):\n",
        "        part_id = [k for k, v in self.parts.items() if v == tag]\n",
        "        if len(part_id) != 1:\n",
        "            raise RuntimeError('cannot match tag with part_id: found {} matches'.format(len(part_id)))\n",
        "        part_id = part_id[0]\n",
        "        self.submit_part(part_id, str(self.ravel_output(output)))\n"
      ],
      "execution_count": 2,
      "outputs": []
    }
  ]
}